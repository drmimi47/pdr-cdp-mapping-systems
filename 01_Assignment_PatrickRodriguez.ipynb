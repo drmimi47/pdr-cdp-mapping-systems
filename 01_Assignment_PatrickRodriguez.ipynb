{
 "cells": [
  {
   "cell_type": "markdown",
   "metadata": {},
   "source": [
    "# 01. Assignment_PatrickRodriguez"
   ]
  },
  {
   "cell_type": "markdown",
   "metadata": {},
   "source": [
    "## Getting Started\n",
    "\n",
    "The data set I am using is from: https://data.cityofnewyork.us/Environment/Electronics-Drop-Off-Locations-in-NYC/wshr-5vic/data_preview\n",
    "\n",
    "Description:\n",
    "A list of locations where NYC residents can drop off unwanted electronics. It's illegal in New York State to include electronic devices with trash or recycling. For more information on how to handle unwanted electronics in NYC, see: https://www.nyc.gov/site/dsny/collection/get-rid-of/electronics.page.\n",
    "\n",
    "\n",
    "exported as a .shp file. Made sure to keep all the other subfiles together with the shape file in the same folder."
   ]
  },
  {
   "cell_type": "code",
   "execution_count": 5,
   "metadata": {},
   "outputs": [],
   "source": [
    "# the bare minimum\n",
    "import matplotlib.pyplot as plt  # for plotting\n",
    "import geopandas as gpd  # for geospatial data handling\n",
    "from matplotlib.lines import Line2D\n",
    "\n",
    "# more advanced\n",
    "from lonboard._map import Map\n",
    "from lonboard._layer import PolygonLayer  # for mapping in 3D\n",
    "from lonboard.colormap import (\n",
    "    apply_categorical_cmap,\n",
    "    apply_continuous_cmap,\n",
    ")  # for assigning colors\n",
    "from palettable.colorbrewer.sequential import PuRd_9  # for color palettes\n",
    "from matplotlib.colors import LogNorm  # for logarithmic normalization\n",
    "import pygwalker as pyg  # for creating interactive data visualizations"
   ]
  },
  {
   "cell_type": "markdown",
   "metadata": {},
   "source": [
    "# Load data\n"
   ]
  },
  {
   "cell_type": "markdown",
   "metadata": {},
   "source": [
    "\n",
    "Here, we create a variable (`nycod`) and use geopandas to read the file into memory. We use a \"relative\" path to reference the file.\n"
   ]
  },
  {
   "cell_type": "code",
   "execution_count": 6,
   "metadata": {},
   "outputs": [],
   "source": [
    "nycod = gpd.read_file(r\"C:\\Users\\drmim\\Downloads\\EdropOff\\geo_export_082c0a81-29f1-444e-bf9b-1feb79bcc358.shp\")"
   ]
  },
  {
   "cell_type": "markdown",
   "metadata": {},
   "source": [
    "# Basic exploration\n"
   ]
  },
  {
   "cell_type": "markdown",
   "metadata": {},
   "source": [
    "previewing the data"
   ]
  },
  {
   "cell_type": "code",
   "execution_count": 7,
   "metadata": {},
   "outputs": [
    {
     "data": {
      "text/html": [
       "<div>\n",
       "<style scoped>\n",
       "    .dataframe tbody tr th:only-of-type {\n",
       "        vertical-align: middle;\n",
       "    }\n",
       "\n",
       "    .dataframe tbody tr th {\n",
       "        vertical-align: top;\n",
       "    }\n",
       "\n",
       "    .dataframe thead th {\n",
       "        text-align: right;\n",
       "    }\n",
       "</style>\n",
       "<table border=\"1\" class=\"dataframe\">\n",
       "  <thead>\n",
       "    <tr style=\"text-align: right;\">\n",
       "      <th></th>\n",
       "      <th>borough</th>\n",
       "      <th>ntaname</th>\n",
       "      <th>dropoff_si</th>\n",
       "      <th>address</th>\n",
       "      <th>zipcode</th>\n",
       "      <th>dsny_zone</th>\n",
       "      <th>dsny_distr</th>\n",
       "      <th>dsny_secti</th>\n",
       "      <th>community_</th>\n",
       "      <th>censustrac</th>\n",
       "      <th>...</th>\n",
       "      <th>senate_dis</th>\n",
       "      <th>congressio</th>\n",
       "      <th>assembly_d</th>\n",
       "      <th>policeprec</th>\n",
       "      <th>bbl</th>\n",
       "      <th>bin</th>\n",
       "      <th>latitude</th>\n",
       "      <th>longitude</th>\n",
       "      <th>objectid</th>\n",
       "      <th>geometry</th>\n",
       "    </tr>\n",
       "  </thead>\n",
       "  <tbody>\n",
       "    <tr>\n",
       "      <th>0</th>\n",
       "      <td>Manhattan</td>\n",
       "      <td>Greenwich Village</td>\n",
       "      <td>Staples</td>\n",
       "      <td>769 Broadway</td>\n",
       "      <td>10003</td>\n",
       "      <td>MN</td>\n",
       "      <td>MN02</td>\n",
       "      <td>MN023</td>\n",
       "      <td>102</td>\n",
       "      <td>1005900</td>\n",
       "      <td>...</td>\n",
       "      <td>27</td>\n",
       "      <td>10</td>\n",
       "      <td>66</td>\n",
       "      <td>006</td>\n",
       "      <td>1005607503</td>\n",
       "      <td>1009092</td>\n",
       "      <td>40.731059</td>\n",
       "      <td>-73.992287</td>\n",
       "      <td>8568</td>\n",
       "      <td>POINT (-73.99229 40.73107)</td>\n",
       "    </tr>\n",
       "    <tr>\n",
       "      <th>1</th>\n",
       "      <td>Brooklyn</td>\n",
       "      <td>Ocean Hill</td>\n",
       "      <td>Gershow Recycling of Brooklyn Inc</td>\n",
       "      <td>1188 Pitkin Ave</td>\n",
       "      <td>11212</td>\n",
       "      <td>BKN</td>\n",
       "      <td>BKN05</td>\n",
       "      <td>BKN051</td>\n",
       "      <td>305</td>\n",
       "      <td>3036700</td>\n",
       "      <td>...</td>\n",
       "      <td>25</td>\n",
       "      <td>8</td>\n",
       "      <td>55</td>\n",
       "      <td>075</td>\n",
       "      <td>None</td>\n",
       "      <td>None</td>\n",
       "      <td>40.677481</td>\n",
       "      <td>-73.902926</td>\n",
       "      <td>8536</td>\n",
       "      <td>POINT (-73.90293 40.67749)</td>\n",
       "    </tr>\n",
       "    <tr>\n",
       "      <th>2</th>\n",
       "      <td>Bronx</td>\n",
       "      <td>Mott Haven-Port Morris</td>\n",
       "      <td>WE Pickups LLC</td>\n",
       "      <td>432 Austin Place #408</td>\n",
       "      <td>10455</td>\n",
       "      <td>BX</td>\n",
       "      <td>BX01</td>\n",
       "      <td>BX012</td>\n",
       "      <td>201</td>\n",
       "      <td>2003100</td>\n",
       "      <td>...</td>\n",
       "      <td>29</td>\n",
       "      <td>15</td>\n",
       "      <td>84</td>\n",
       "      <td>040</td>\n",
       "      <td>None</td>\n",
       "      <td>None</td>\n",
       "      <td>40.809036</td>\n",
       "      <td>-73.905348</td>\n",
       "      <td>8637</td>\n",
       "      <td>POINT (-73.90535 40.80904)</td>\n",
       "    </tr>\n",
       "    <tr>\n",
       "      <th>3</th>\n",
       "      <td>Staten Island</td>\n",
       "      <td>Port Richmond</td>\n",
       "      <td>J&amp;J Recycling</td>\n",
       "      <td>1641 Richmond Terrace</td>\n",
       "      <td>10310</td>\n",
       "      <td>SI</td>\n",
       "      <td>SI01</td>\n",
       "      <td>SI013</td>\n",
       "      <td>501</td>\n",
       "      <td>5013302</td>\n",
       "      <td>...</td>\n",
       "      <td>23</td>\n",
       "      <td>11</td>\n",
       "      <td>61</td>\n",
       "      <td>120</td>\n",
       "      <td>5001850153</td>\n",
       "      <td>5101101</td>\n",
       "      <td>40.640315</td>\n",
       "      <td>-74.121243</td>\n",
       "      <td>8549</td>\n",
       "      <td>POINT (-74.12124 40.64032)</td>\n",
       "    </tr>\n",
       "    <tr>\n",
       "      <th>4</th>\n",
       "      <td>Bronx</td>\n",
       "      <td>Pelham Parkway-Van Nest</td>\n",
       "      <td>Staples</td>\n",
       "      <td>2040 White Plains Rd</td>\n",
       "      <td>10462</td>\n",
       "      <td>BX</td>\n",
       "      <td>BX11</td>\n",
       "      <td>BX111</td>\n",
       "      <td>211</td>\n",
       "      <td>2022404</td>\n",
       "      <td>...</td>\n",
       "      <td>33</td>\n",
       "      <td>15</td>\n",
       "      <td>80</td>\n",
       "      <td>049</td>\n",
       "      <td>2042847501</td>\n",
       "      <td>2114768</td>\n",
       "      <td>40.852077</td>\n",
       "      <td>-73.867379</td>\n",
       "      <td>8632</td>\n",
       "      <td>POINT (-73.86738 40.85209)</td>\n",
       "    </tr>\n",
       "  </tbody>\n",
       "</table>\n",
       "<p>5 rows × 21 columns</p>\n",
       "</div>"
      ],
      "text/plain": [
       "         borough                  ntaname                         dropoff_si  \\\n",
       "0      Manhattan        Greenwich Village                            Staples   \n",
       "1       Brooklyn               Ocean Hill  Gershow Recycling of Brooklyn Inc   \n",
       "2          Bronx   Mott Haven-Port Morris                     WE Pickups LLC   \n",
       "3  Staten Island            Port Richmond                      J&J Recycling   \n",
       "4          Bronx  Pelham Parkway-Van Nest                            Staples   \n",
       "\n",
       "                 address zipcode dsny_zone dsny_distr dsny_secti community_  \\\n",
       "0           769 Broadway   10003        MN       MN02      MN023        102   \n",
       "1        1188 Pitkin Ave   11212       BKN      BKN05     BKN051        305   \n",
       "2  432 Austin Place #408   10455        BX       BX01      BX012        201   \n",
       "3  1641 Richmond Terrace   10310        SI       SI01      SI013        501   \n",
       "4   2040 White Plains Rd   10462        BX       BX11      BX111        211   \n",
       "\n",
       "  censustrac  ...  senate_dis congressio assembly_d policeprec         bbl  \\\n",
       "0    1005900  ...          27         10         66        006  1005607503   \n",
       "1    3036700  ...          25          8         55        075        None   \n",
       "2    2003100  ...          29         15         84        040        None   \n",
       "3    5013302  ...          23         11         61        120  5001850153   \n",
       "4    2022404  ...          33         15         80        049  2042847501   \n",
       "\n",
       "       bin   latitude  longitude  objectid                    geometry  \n",
       "0  1009092  40.731059 -73.992287      8568  POINT (-73.99229 40.73107)  \n",
       "1     None  40.677481 -73.902926      8536  POINT (-73.90293 40.67749)  \n",
       "2     None  40.809036 -73.905348      8637  POINT (-73.90535 40.80904)  \n",
       "3  5101101  40.640315 -74.121243      8549  POINT (-74.12124 40.64032)  \n",
       "4  2114768  40.852077 -73.867379      8632  POINT (-73.86738 40.85209)  \n",
       "\n",
       "[5 rows x 21 columns]"
      ]
     },
     "execution_count": 7,
     "metadata": {},
     "output_type": "execute_result"
    }
   ],
   "source": [
    "nycod.head()"
   ]
  },
  {
   "cell_type": "markdown",
   "metadata": {},
   "source": [
    "checking column names to later reference"
   ]
  },
  {
   "cell_type": "code",
   "execution_count": 4,
   "metadata": {},
   "outputs": [
    {
     "data": {
      "text/plain": [
       "Index(['borough', 'ntaname', 'dropoff_si', 'address', 'zipcode', 'dsny_zone',\n",
       "       'dsny_distr', 'dsny_secti', 'community_', 'censustrac', 'councildis',\n",
       "       'senate_dis', 'congressio', 'assembly_d', 'policeprec', 'bbl', 'bin',\n",
       "       'latitude', 'longitude', 'objectid', 'geometry'],\n",
       "      dtype='object')"
      ]
     },
     "execution_count": 4,
     "metadata": {},
     "output_type": "execute_result"
    }
   ],
   "source": [
    "nycod.columns"
   ]
  },
  {
   "cell_type": "markdown",
   "metadata": {},
   "source": [
    "checking data types of each colujmn"
   ]
  },
  {
   "cell_type": "code",
   "execution_count": 83,
   "metadata": {},
   "outputs": [
    {
     "data": {
      "text/plain": [
       "[dtype('O'),\n",
       " dtype('O'),\n",
       " dtype('O'),\n",
       " dtype('O'),\n",
       " dtype('O'),\n",
       " dtype('O'),\n",
       " dtype('O'),\n",
       " dtype('O'),\n",
       " dtype('O'),\n",
       " dtype('O'),\n",
       " dtype('float64'),\n",
       " dtype('O'),\n",
       " dtype('O'),\n",
       " dtype('O'),\n",
       " dtype('O'),\n",
       " dtype('O'),\n",
       " dtype('O'),\n",
       " dtype('float64'),\n",
       " dtype('float64'),\n",
       " dtype('O'),\n",
       " <geopandas.array.GeometryDtype at 0x15d53b11a00>]"
      ]
     },
     "execution_count": 83,
     "metadata": {},
     "output_type": "execute_result"
    }
   ],
   "source": [
    "list(nycod.dtypes)"
   ]
  },
  {
   "cell_type": "markdown",
   "metadata": {},
   "source": [
    "## Exploring a categorical column\n"
   ]
  },
  {
   "cell_type": "code",
   "execution_count": 84,
   "metadata": {},
   "outputs": [
    {
     "data": {
      "text/plain": [
       "dsny_distr\n",
       "MN05     10\n",
       "BKN01     8\n",
       "SI02      6\n",
       "MN08      5\n",
       "MN04      5\n",
       "MN02      5\n",
       "BKN05     4\n",
       "BKN02     4\n",
       "QW04      3\n",
       "QW01      3\n",
       "BX06      3\n",
       "MN06      3\n",
       "BKS06     3\n",
       "QW02      3\n",
       "BX02      2\n",
       "SI01      2\n",
       "QE07      2\n",
       "BKS07     2\n",
       "BKS10     2\n",
       "BX08      2\n",
       "BX10      2\n",
       "MN07      2\n",
       "BX01      1\n",
       "BX04      1\n",
       "BX11      1\n",
       "MN03      1\n",
       "QE08      1\n",
       "QW06      1\n",
       "BKS12     1\n",
       "MN12      1\n",
       "BX12      1\n",
       "BX03      1\n",
       "QW05      1\n",
       "BKS18     1\n",
       "QE13      1\n",
       "BX07      1\n",
       "MN01      1\n",
       "QE12      1\n",
       "BKS11     1\n",
       "MN10      1\n",
       "MN11      1\n",
       "QE11      1\n",
       "BKN17     1\n",
       "Name: count, dtype: int64"
      ]
     },
     "execution_count": 84,
     "metadata": {},
     "output_type": "execute_result"
    }
   ],
   "source": [
    "nycod.dsny_distr.value_counts()"
   ]
  },
  {
   "cell_type": "markdown",
   "metadata": {},
   "source": [
    "by searching up online what the codes mean I could assign a translated version to each code using chatgpt for help.\n"
   ]
  },
  {
   "cell_type": "code",
   "execution_count": 85,
   "metadata": {},
   "outputs": [],
   "source": [
    "dsny_distr_codes = {\n",
    "    \"MN05\": \"Manhattan_District_5\",\n",
    "    \"BKN01\": \"Brooklyn_District_1\",\n",
    "    \"SI02\": \"StatenIsland_District_2\",\n",
    "    \"MN08\": \"Manhattan_District_8\",\n",
    "    \"MN04\": \"Manhattan_District_4\",\n",
    "    \"MN02\": \"Manhattan_District_2\",\n",
    "    \"BKN05\": \"Brooklyn_District_5\",\n",
    "    \"BKN02\": \"Brooklyn_District_2\",\n",
    "    \"QW04\": \"Queens_District_4\",\n",
    "    \"QW01\": \"Queens_District_1\",\n",
    "    \"BX06\": \"Bronx_District_6\",\n",
    "    \"MN06\": \"Manhattan_District_6\",\n",
    "    \"BKS06\": \"Brooklyn_District_6\",\n",
    "    \"QW02\": \"Queens_District_2\",\n",
    "    \"BX02\": \"Bronx_District_2\",\n",
    "    \"SI01\": \"StatenIsland_District_1\",\n",
    "    \"QE07\": \"Queens_District_7\",\n",
    "    \"BKS07\": \"Brooklyn_District_7\",\n",
    "    \"BKS10\": \"Brooklyn_District_10\",\n",
    "    \"BX08\": \"Bronx_District_8\",\n",
    "    \"BX10\": \"Bronx_District_10\",\n",
    "    \"MN07\": \"Manhattan_District_7\",\n",
    "    \"BX01\": \"Bronx_District_1\",\n",
    "    \"BX04\": \"Bronx_District_4\",\n",
    "    \"BX11\": \"Bronx_District_11\",\n",
    "    \"MN03\": \"Manhattan_District_3\",\n",
    "    \"QE08\": \"Queens_District_8\",\n",
    "    \"QW06\": \"Queens_District_6\",\n",
    "    \"BKS12\": \"Brooklyn_District_12\",\n",
    "    \"MN12\": \"Manhattan_District_12\",\n",
    "    \"BX12\": \"Bronx_District_12\",\n",
    "    \"BX03\": \"Bronx_District_3\",\n",
    "    \"QW05\": \"Queens_District_5\",\n",
    "    \"BKS18\": \"Brooklyn_District_18\",\n",
    "    \"QE13\": \"Queens_District_13\",\n",
    "    \"BX07\": \"Bronx_District_7\",\n",
    "    \"MN01\": \"Manhattan_District_1\",\n",
    "    \"QE12\": \"Queens_District_12\",\n",
    "    \"BKS11\": \"Brooklyn_District_11\",\n",
    "    \"MN10\": \"Manhattan_District_10\",\n",
    "    \"MN11\": \"Manhattan_District_11\",\n",
    "    \"QE11\": \"Queens_District_11\",\n",
    "    \"BKN17\": \"Brooklyn_District_17\"\n",
    "}\n"
   ]
  },
  {
   "cell_type": "markdown",
   "metadata": {},
   "source": [
    "mapping the more readible names"
   ]
  },
  {
   "cell_type": "code",
   "execution_count": 86,
   "metadata": {},
   "outputs": [],
   "source": [
    "nycod[\"dsny_distr\"] = nycod[\"dsny_distr\"].map(dsny_distr_codes)\n"
   ]
  },
  {
   "cell_type": "code",
   "execution_count": 87,
   "metadata": {},
   "outputs": [
    {
     "name": "stdout",
     "output_type": "stream",
     "text": [
      "dsny_distr\n",
      "Manhattan_District_5       10\n",
      "Brooklyn_District_1         8\n",
      "StatenIsland_District_2     6\n",
      "Manhattan_District_8        5\n",
      "Manhattan_District_4        5\n",
      "Manhattan_District_2        5\n",
      "Brooklyn_District_5         4\n",
      "Brooklyn_District_2         4\n",
      "Queens_District_4           3\n",
      "Queens_District_1           3\n",
      "Bronx_District_6            3\n",
      "Manhattan_District_6        3\n",
      "Brooklyn_District_6         3\n",
      "Queens_District_2           3\n",
      "Bronx_District_2            2\n",
      "StatenIsland_District_1     2\n",
      "Queens_District_7           2\n",
      "Brooklyn_District_7         2\n",
      "Brooklyn_District_10        2\n",
      "Bronx_District_8            2\n",
      "Bronx_District_10           2\n",
      "Manhattan_District_7        2\n",
      "Bronx_District_1            1\n",
      "Bronx_District_4            1\n",
      "Bronx_District_11           1\n",
      "Manhattan_District_3        1\n",
      "Queens_District_8           1\n",
      "Queens_District_6           1\n",
      "Brooklyn_District_12        1\n",
      "Manhattan_District_12       1\n",
      "Bronx_District_12           1\n",
      "Bronx_District_3            1\n",
      "Queens_District_5           1\n",
      "Brooklyn_District_18        1\n",
      "Queens_District_13          1\n",
      "Bronx_District_7            1\n",
      "Manhattan_District_1        1\n",
      "Queens_District_12          1\n",
      "Brooklyn_District_11        1\n",
      "Manhattan_District_10       1\n",
      "Manhattan_District_11       1\n",
      "Queens_District_11          1\n",
      "Brooklyn_District_17        1\n",
      "Name: count, dtype: int64\n"
     ]
    }
   ],
   "source": [
    "# now when we perform operations on the LandUse field,\n",
    "# we can use the more meaningful names.\n",
    "# let's look at the frequency of values in the LandUse field again\n",
    "print(nycod[\"dsny_distr\"].value_counts(dropna=False))\n"
   ]
  },
  {
   "cell_type": "markdown",
   "metadata": {
    "vscode": {
     "languageId": "markdown"
    }
   },
   "source": [
    "⚠️ Caution! So far we have been counting the number of rows, but not saying anything about the area of each land use type. To do so, we can sum across rows of the same type. We can use the `groupby()` function to group the data by a categorical column type and then sum the values in another column (in this case, the lot area) the area for each type.\n"
   ]
  },
  {
   "cell_type": "markdown",
   "metadata": {},
   "source": [
    "## numeric column\n"
   ]
  },
  {
   "cell_type": "markdown",
   "metadata": {},
   "source": [
    "We can use the `describe()` function to get a summary of the numeric columns in the dataset."
   ]
  },
  {
   "cell_type": "code",
   "execution_count": 93,
   "metadata": {},
   "outputs": [
    {
     "data": {
      "text/plain": [
       "count         102\n",
       "unique         88\n",
       "top       5027702\n",
       "freq            3\n",
       "Name: censustrac, dtype: object"
      ]
     },
     "execution_count": 93,
     "metadata": {},
     "output_type": "execute_result"
    }
   ],
   "source": [
    "nycod[\"censustrac\"].describe()"
   ]
  },
  {
   "cell_type": "markdown",
   "metadata": {},
   "source": [
    "### Interactive plotting"
   ]
  },
  {
   "cell_type": "markdown",
   "metadata": {},
   "source": [
    "I explored pygwalker and the interactivity it excels in when visualizing data."
   ]
  },
  {
   "cell_type": "code",
   "execution_count": 94,
   "metadata": {},
   "outputs": [
    {
     "data": {
      "application/vnd.jupyter.widget-view+json": {
       "model_id": "787fd71f8d514a6ba532d90ab633fcf1",
       "version_major": 2,
       "version_minor": 0
      },
      "text/plain": [
       "Box(children=(HTML(value='\\n<div id=\"ifr-pyg-00063a3998becaf8hXOKCFlk3AzNdPu5\" style=\"height: auto\">\\n    <hea…"
      ]
     },
     "metadata": {},
     "output_type": "display_data"
    },
    {
     "data": {
      "text/html": [
       "<script>\n",
       "    window.addEventListener(\"message\", function(event) {\n",
       "        const backgroundMap = {\n",
       "            \"dark\": \"hsl(240 10% 3.9%)\",\n",
       "            \"light\": \"hsl(0 0 100%)\",\n",
       "        };\n",
       "        const colorMap = {\n",
       "            \"dark\": \"hsl(0 0% 98%)\",\n",
       "            \"light\": \"hsl(240 10% 3.9%)\",\n",
       "        };\n",
       "        if (event.data.action === \"changeAppearance\" && event.data.gid === \"00063a3998becaf8hXOKCFlk3AzNdPu5\") {\n",
       "            var iframe = document.getElementById(\"gwalker-00063a3998becaf8hXOKCFlk3AzNdPu5\");\n",
       "            iframe.style.background  = backgroundMap[event.data.appearance];\n",
       "            iframe.style.color = colorMap[event.data.appearance];\n",
       "        }\n",
       "    });\n",
       "</script>"
      ],
      "text/plain": [
       "<IPython.core.display.HTML object>"
      ]
     },
     "metadata": {},
     "output_type": "display_data"
    },
    {
     "data": {
      "text/html": [],
      "text/plain": [
       "<IPython.core.display.HTML object>"
      ]
     },
     "metadata": {},
     "output_type": "display_data"
    },
    {
     "data": {
      "text/plain": [
       "<pygwalker.api.pygwalker.PygWalker at 0x15d8a3274a0>"
      ]
     },
     "execution_count": 94,
     "metadata": {},
     "output_type": "execute_result"
    }
   ],
   "source": [
    "# pygwalker doesn't suppert geospatial data directly, so we need to drop the geometry column.\n",
    "# Be sure to keep a copy of the original data, we'll need it later!\n",
    "nycod_non_spatial = nycod.drop(columns=[\"geometry\"])\n",
    "\n",
    "# Invoke pygwalker, begin exploring the data interactively\n",
    "pyg.walk(nycod_non_spatial)"
   ]
  },
  {
   "cell_type": "markdown",
   "metadata": {},
   "source": [
    "# Mapping\n"
   ]
  },
  {
   "cell_type": "markdown",
   "metadata": {},
   "source": [
    "## Creating a static map\n"
   ]
  },
  {
   "cell_type": "markdown",
   "metadata": {},
   "source": [
    "In this example, we are using matplotlib to map our pluto data. Under the hood, matplotlib is drawing each individual polygon (>800,000), which is resource intensive and hard to discern on a map! This is a good place to start, but we'll soon move on to more advanced mapping techniques."
   ]
  },
  {
   "cell_type": "code",
   "execution_count": 114,
   "metadata": {},
   "outputs": [
    {
     "data": {
      "text/plain": [
       "Text(0.5, 1.0, 'NYC Drop Off Locations')"
      ]
     },
     "execution_count": 114,
     "metadata": {},
     "output_type": "execute_result"
    },
    {
     "data": {
      "image/png": "[encoded data removed]",
      "text/plain": [
       "<Figure size 1000x1000 with 1 Axes>"
      ]
     },
     "metadata": {},
     "output_type": "display_data"
    }
   ],
   "source": [
    "nycod.plot(figsize=(10, 10)).set_axis_off()\n",
    "plt.title(\"NYC Drop Off Locations\")\n"
   ]
  },
  {
   "cell_type": "markdown",
   "metadata": {},
   "source": [
    "I would like to revist this in the future and give it a better backdrop so that more context could give better understanding. I would also like to give a unique color to each dot depending on the buroough it was in."
   ]
  }
 ],
 "metadata": {
  "kernelspec": {
   "display_name": "cdp",
   "language": "python",
   "name": "python3"
  },
  "language_info": {
   "codemirror_mode": {
    "name": "ipython",
    "version": 3
   },
   "file_extension": ".py",
   "mimetype": "text/x-python",
   "name": "python",
   "nbconvert_exporter": "python",
   "pygments_lexer": "ipython3",
   "version": "3.12.11"
  }
 },
 "nbformat": 4,
 "nbformat_minor": 2
}
